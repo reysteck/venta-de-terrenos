{
 "cells": [
  {
   "cell_type": "code",
   "execution_count": 16,
   "id": "826c816c",
   "metadata": {},
   "outputs": [],
   "source": [
    "import pandas as pd"
   ]
  },
  {
   "cell_type": "code",
   "execution_count": 17,
   "id": "4689776b",
   "metadata": {},
   "outputs": [
    {
     "data": {
      "text/html": [
       "<div>\n",
       "<style scoped>\n",
       "    .dataframe tbody tr th:only-of-type {\n",
       "        vertical-align: middle;\n",
       "    }\n",
       "\n",
       "    .dataframe tbody tr th {\n",
       "        vertical-align: top;\n",
       "    }\n",
       "\n",
       "    .dataframe thead th {\n",
       "        text-align: right;\n",
       "    }\n",
       "</style>\n",
       "<table border=\"1\" class=\"dataframe\">\n",
       "  <thead>\n",
       "    <tr style=\"text-align: right;\">\n",
       "      <th></th>\n",
       "      <th>PRECIOUSD</th>\n",
       "      <th>PRECIOPESO</th>\n",
       "      <th>DOLARM2</th>\n",
       "      <th>PESOSM2</th>\n",
       "    </tr>\n",
       "  </thead>\n",
       "  <tbody>\n",
       "    <tr>\n",
       "      <th>0</th>\n",
       "      <td>150000</td>\n",
       "      <td>12000000</td>\n",
       "      <td>790</td>\n",
       "      <td>63158</td>\n",
       "    </tr>\n",
       "    <tr>\n",
       "      <th>1</th>\n",
       "      <td>230000</td>\n",
       "      <td>18400000</td>\n",
       "      <td>950</td>\n",
       "      <td>76033</td>\n",
       "    </tr>\n",
       "    <tr>\n",
       "      <th>2</th>\n",
       "      <td>265000</td>\n",
       "      <td>21200000</td>\n",
       "      <td>1256</td>\n",
       "      <td>100474</td>\n",
       "    </tr>\n",
       "    <tr>\n",
       "      <th>3</th>\n",
       "      <td>300000</td>\n",
       "      <td>24000000</td>\n",
       "      <td>938</td>\n",
       "      <td>75000</td>\n",
       "    </tr>\n",
       "    <tr>\n",
       "      <th>4</th>\n",
       "      <td>305000</td>\n",
       "      <td>24400000</td>\n",
       "      <td>1220</td>\n",
       "      <td>97600</td>\n",
       "    </tr>\n",
       "    <tr>\n",
       "      <th>...</th>\n",
       "      <td>...</td>\n",
       "      <td>...</td>\n",
       "      <td>...</td>\n",
       "      <td>...</td>\n",
       "    </tr>\n",
       "    <tr>\n",
       "      <th>10296</th>\n",
       "      <td>430000</td>\n",
       "      <td>27412500</td>\n",
       "      <td>2886</td>\n",
       "      <td>183976</td>\n",
       "    </tr>\n",
       "    <tr>\n",
       "      <th>10297</th>\n",
       "      <td>790000</td>\n",
       "      <td>50362500</td>\n",
       "      <td>1580</td>\n",
       "      <td>100725</td>\n",
       "    </tr>\n",
       "    <tr>\n",
       "      <th>10298</th>\n",
       "      <td>690000</td>\n",
       "      <td>43987500</td>\n",
       "      <td>895</td>\n",
       "      <td>57052</td>\n",
       "    </tr>\n",
       "    <tr>\n",
       "      <th>10299</th>\n",
       "      <td>800000</td>\n",
       "      <td>51000000</td>\n",
       "      <td>1956</td>\n",
       "      <td>124694</td>\n",
       "    </tr>\n",
       "    <tr>\n",
       "      <th>10300</th>\n",
       "      <td>495000</td>\n",
       "      <td>31680000</td>\n",
       "      <td>1768</td>\n",
       "      <td>113143</td>\n",
       "    </tr>\n",
       "  </tbody>\n",
       "</table>\n",
       "<p>10301 rows × 4 columns</p>\n",
       "</div>"
      ],
      "text/plain": [
       "       PRECIOUSD  PRECIOPESO  DOLARM2  PESOSM2\n",
       "0         150000    12000000      790    63158\n",
       "1         230000    18400000      950    76033\n",
       "2         265000    21200000     1256   100474\n",
       "3         300000    24000000      938    75000\n",
       "4         305000    24400000     1220    97600\n",
       "...          ...         ...      ...      ...\n",
       "10296     430000    27412500     2886   183976\n",
       "10297     790000    50362500     1580   100725\n",
       "10298     690000    43987500      895    57052\n",
       "10299     800000    51000000     1956   124694\n",
       "10300     495000    31680000     1768   113143\n",
       "\n",
       "[10301 rows x 4 columns]"
      ]
     },
     "execution_count": 17,
     "metadata": {},
     "output_type": "execute_result"
    }
   ],
   "source": [
    "data= pd.read_excel(\"Downloads/Terrenos-en-venta-2020 argentina.xlsx\")\n",
    "data"
   ]
  },
  {
   "cell_type": "code",
   "execution_count": 18,
   "id": "668c6a6e",
   "metadata": {},
   "outputs": [
    {
     "data": {
      "text/plain": [
       "(10301, 4)"
      ]
     },
     "execution_count": 18,
     "metadata": {},
     "output_type": "execute_result"
    }
   ],
   "source": [
    "data.shape"
   ]
  },
  {
   "cell_type": "code",
   "execution_count": 21,
   "id": "b6ca1890",
   "metadata": {},
   "outputs": [],
   "source": [
    "colnames = data.columns.values.tolist()\n",
    "predictors = colnames[:3]\n",
    "target = colnames[3]\n",
    "X = data[predictors]\n",
    "Y = data[target]"
   ]
  },
  {
   "cell_type": "code",
   "execution_count": 22,
   "id": "3adb0cb0",
   "metadata": {},
   "outputs": [],
   "source": [
    "from sklearn.tree import DecisionTreeRegressor"
   ]
  },
  {
   "cell_type": "code",
   "execution_count": 23,
   "id": "85aa6e34",
   "metadata": {},
   "outputs": [],
   "source": [
    "regtree = DecisionTreeRegressor(min_samples_split=30, min_samples_leaf=10, max_depth=5, random_state=0)"
   ]
  },
  {
   "cell_type": "code",
   "execution_count": 24,
   "id": "da62eac9",
   "metadata": {},
   "outputs": [
    {
     "data": {
      "text/plain": [
       "DecisionTreeRegressor(max_depth=5, min_samples_leaf=10, min_samples_split=30,\n",
       "                      random_state=0)"
      ]
     },
     "execution_count": 24,
     "metadata": {},
     "output_type": "execute_result"
    }
   ],
   "source": [
    "regtree.fit(X,Y)"
   ]
  },
  {
   "cell_type": "code",
   "execution_count": 25,
   "id": "813745bd",
   "metadata": {},
   "outputs": [],
   "source": [
    "preds = regtree.predict(data[predictors])"
   ]
  },
  {
   "cell_type": "code",
   "execution_count": 26,
   "id": "c9333fe9",
   "metadata": {},
   "outputs": [],
   "source": [
    "data[\"preds\"] = preds"
   ]
  },
  {
   "cell_type": "code",
   "execution_count": 28,
   "id": "3337e913",
   "metadata": {},
   "outputs": [
    {
     "data": {
      "text/html": [
       "<div>\n",
       "<style scoped>\n",
       "    .dataframe tbody tr th:only-of-type {\n",
       "        vertical-align: middle;\n",
       "    }\n",
       "\n",
       "    .dataframe tbody tr th {\n",
       "        vertical-align: top;\n",
       "    }\n",
       "\n",
       "    .dataframe thead th {\n",
       "        text-align: right;\n",
       "    }\n",
       "</style>\n",
       "<table border=\"1\" class=\"dataframe\">\n",
       "  <thead>\n",
       "    <tr style=\"text-align: right;\">\n",
       "      <th></th>\n",
       "      <th>preds</th>\n",
       "      <th>PESOSM2</th>\n",
       "    </tr>\n",
       "  </thead>\n",
       "  <tbody>\n",
       "    <tr>\n",
       "      <th>0</th>\n",
       "      <td>47717.192678</td>\n",
       "      <td>63158</td>\n",
       "    </tr>\n",
       "    <tr>\n",
       "      <th>1</th>\n",
       "      <td>60803.026490</td>\n",
       "      <td>76033</td>\n",
       "    </tr>\n",
       "    <tr>\n",
       "      <th>2</th>\n",
       "      <td>85178.685675</td>\n",
       "      <td>100474</td>\n",
       "    </tr>\n",
       "    <tr>\n",
       "      <th>3</th>\n",
       "      <td>60803.026490</td>\n",
       "      <td>75000</td>\n",
       "    </tr>\n",
       "    <tr>\n",
       "      <th>4</th>\n",
       "      <td>85178.685675</td>\n",
       "      <td>97600</td>\n",
       "    </tr>\n",
       "    <tr>\n",
       "      <th>...</th>\n",
       "      <td>...</td>\n",
       "      <td>...</td>\n",
       "    </tr>\n",
       "    <tr>\n",
       "      <th>10296</th>\n",
       "      <td>187258.051867</td>\n",
       "      <td>183976</td>\n",
       "    </tr>\n",
       "    <tr>\n",
       "      <th>10297</th>\n",
       "      <td>107359.992604</td>\n",
       "      <td>100725</td>\n",
       "    </tr>\n",
       "    <tr>\n",
       "      <th>10298</th>\n",
       "      <td>60803.026490</td>\n",
       "      <td>57052</td>\n",
       "    </tr>\n",
       "    <tr>\n",
       "      <th>10299</th>\n",
       "      <td>129490.828283</td>\n",
       "      <td>124694</td>\n",
       "    </tr>\n",
       "    <tr>\n",
       "      <th>10300</th>\n",
       "      <td>118186.645669</td>\n",
       "      <td>113143</td>\n",
       "    </tr>\n",
       "  </tbody>\n",
       "</table>\n",
       "<p>10301 rows × 2 columns</p>\n",
       "</div>"
      ],
      "text/plain": [
       "               preds  PESOSM2\n",
       "0       47717.192678    63158\n",
       "1       60803.026490    76033\n",
       "2       85178.685675   100474\n",
       "3       60803.026490    75000\n",
       "4       85178.685675    97600\n",
       "...              ...      ...\n",
       "10296  187258.051867   183976\n",
       "10297  107359.992604   100725\n",
       "10298   60803.026490    57052\n",
       "10299  129490.828283   124694\n",
       "10300  118186.645669   113143\n",
       "\n",
       "[10301 rows x 2 columns]"
      ]
     },
     "execution_count": 28,
     "metadata": {},
     "output_type": "execute_result"
    }
   ],
   "source": [
    "data[[\"preds\", \"PESOSM2\"]]"
   ]
  },
  {
   "cell_type": "code",
   "execution_count": null,
   "id": "216ccb22",
   "metadata": {},
   "outputs": [],
   "source": []
  }
 ],
 "metadata": {
  "kernelspec": {
   "display_name": "Python 3 (ipykernel)",
   "language": "python",
   "name": "python3"
  },
  "language_info": {
   "codemirror_mode": {
    "name": "ipython",
    "version": 3
   },
   "file_extension": ".py",
   "mimetype": "text/x-python",
   "name": "python",
   "nbconvert_exporter": "python",
   "pygments_lexer": "ipython3",
   "version": "3.9.12"
  }
 },
 "nbformat": 4,
 "nbformat_minor": 5
}
